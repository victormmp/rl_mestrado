{
 "cells": [
  {
   "cell_type": "code",
   "execution_count": 3,
   "id": "87b212b5",
   "metadata": {},
   "outputs": [],
   "source": [
    "import pandas as pd\n",
    "from rl_mestrado.agent.actor_cnn import DeepActorAgentLearner\n",
    "import os"
   ]
  },
  {
   "cell_type": "code",
   "execution_count": 4,
   "id": "3b9a6d6c",
   "metadata": {},
   "outputs": [],
   "source": [
    "DATA_PATH = os.path.join('silver', 'daily_feature_set.csv')\n",
    "ASSETS = ['SPY', 'TLT.O', 'XLK']\n",
    "MODEL_OUTPUT_PATH = os.path.join('results')\n",
    "BACKTEST_OUTPUT_PATH = os.path.join('results', 'backtest')\n",
    "WEIGHTS_OUTPUT_PATH = os.path.join('results', 'weights')\n",
    "START_OUT_SAMPLE = '2015-01-05'\n",
    "END_OUT_SAMPLE = '2021-09-30'\n",
    "N_FEATURES = 14\n",
    "N_DAYS = 60\n",
    "EPOCHS = 10000"
   ]
  },
  {
   "cell_type": "code",
   "execution_count": 5,
   "id": "cb3d5b64",
   "metadata": {},
   "outputs": [],
   "source": [
    "agent  = DeepActorAgentLearner(\n",
    "    learning_rate=1e-4,\n",
    "    assets=ASSETS,\n",
    "    n_features=N_FEATURES,\n",
    "    n_assets=len(ASSETS),\n",
    "    n_days=N_DAYS\n",
    ")"
   ]
  },
  {
   "cell_type": "code",
   "execution_count": 6,
   "id": "8407606e",
   "metadata": {},
   "outputs": [
    {
     "name": "stdout",
     "output_type": "stream",
     "text": [
      "ConvolutionalActor(\n",
      "  (conv1): Conv2d(1, 1, kernel_size=(30, 1), stride=(1, 1))\n",
      "  (drop1): Dropout2d(p=0.5, inplace=False)\n",
      "  (batch1): BatchNorm2d(1, eps=1e-05, momentum=0.1, affine=True, track_running_stats=True)\n",
      "  (relu1): LeakyReLU(negative_slope=0.01)\n",
      "  (conv2): Conv2d(1, 1, kernel_size=(31, 1), stride=(1, 1))\n",
      "  (batch2): BatchNorm2d(1, eps=1e-05, momentum=0.1, affine=True, track_running_stats=True)\n",
      "  (drop2): Dropout2d(p=0.3, inplace=False)\n",
      "  (relu2): LeakyReLU(negative_slope=0.01)\n",
      "  (flat1): Flatten(start_dim=1, end_dim=-1)\n",
      "  (linear1): Linear(in_features=14, out_features=64, bias=True)\n",
      "  (relu3): LeakyReLU(negative_slope=0.01)\n",
      "  (linear2): Linear(in_features=64, out_features=32, bias=True)\n",
      "  (relu4): LeakyReLU(negative_slope=0.01)\n",
      "  (output1): Linear(in_features=32, out_features=3, bias=True)\n",
      "  (softmax1): Softmax(dim=1)\n",
      ")\n"
     ]
    }
   ],
   "source": [
    "print(agent._actor)"
   ]
  }
 ],
 "metadata": {
  "kernelspec": {
   "display_name": "Python 3 (ipykernel)",
   "language": "python",
   "name": "python3"
  },
  "language_info": {
   "codemirror_mode": {
    "name": "ipython",
    "version": 3
   },
   "file_extension": ".py",
   "mimetype": "text/x-python",
   "name": "python",
   "nbconvert_exporter": "python",
   "pygments_lexer": "ipython3",
   "version": "3.8.6"
  }
 },
 "nbformat": 4,
 "nbformat_minor": 5
}
